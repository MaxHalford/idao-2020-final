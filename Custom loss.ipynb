{
 "cells": [
  {
   "cell_type": "markdown",
   "metadata": {},
   "source": [
    "## Credit cards"
   ]
  },
  {
   "cell_type": "code",
   "execution_count": 3,
   "metadata": {},
   "outputs": [],
   "source": [
    "import pandas as pd\n",
    "from sklearn import metrics\n",
    "from sklearn import model_selection\n",
    "\n",
    "df = pd.read_csv('creditcard.csv')\n",
    "X = df.drop(columns='Class')\n",
    "y = df['Class']\n",
    "\n",
    "X_train, X_test, y_train, y_test = model_selection.train_test_split(\n",
    "    X, y,\n",
    "    random_state=42\n",
    ")\n",
    "\n",
    "X_fit, X_val, y_fit, y_val = model_selection.train_test_split(\n",
    "    X_train, y_train,\n",
    "    random_state=42\n",
    ")"
   ]
  },
  {
   "cell_type": "code",
   "execution_count": 4,
   "metadata": {},
   "outputs": [
    {
     "name": "stdout",
     "output_type": "stream",
     "text": [
      "Training until validation scores don't improve for 20 rounds\n",
      "[100]\tfit's binary_logloss: 0.00191083\tval's binary_logloss: 0.00358371\n",
      "[200]\tfit's binary_logloss: 0.000825181\tval's binary_logloss: 0.00286873\n",
      "[300]\tfit's binary_logloss: 0.000403679\tval's binary_logloss: 0.00262094\n",
      "Early stopping, best iteration is:\n",
      "[355]\tfit's binary_logloss: 0.000282887\tval's binary_logloss: 0.00257033\n",
      "\n",
      "Test's ROC AUC: 0.97721\n",
      "Test's logloss: 0.00233\n"
     ]
    }
   ],
   "source": [
    "import lightgbm\n",
    "\n",
    "fit = lightgbm.Dataset(X_fit, y_fit)\n",
    "val = lightgbm.Dataset(X_val, y_val, reference=fit)\n",
    "\n",
    "model = lightgbm.train(\n",
    "    params={\n",
    "        'learning_rate': 0.01,\n",
    "        'objective': 'binary'\n",
    "    },\n",
    "    train_set=fit,\n",
    "    num_boost_round=10000,\n",
    "    valid_sets=(fit, val),\n",
    "    valid_names=('fit', 'val'),\n",
    "    early_stopping_rounds=20,\n",
    "    verbose_eval=100\n",
    ")\n",
    "\n",
    "y_pred = model.predict(X_test)\n",
    "\n",
    "print()\n",
    "print(f\"Test's ROC AUC: {metrics.roc_auc_score(y_test, y_pred):.5f}\")\n",
    "print(f\"Test's logloss: {metrics.log_loss(y_test, y_pred):.5f}\")\n"
   ]
  },
  {
   "cell_type": "code",
   "execution_count": 5,
   "metadata": {},
   "outputs": [
    {
     "name": "stdout",
     "output_type": "stream",
     "text": [
      "Training until validation scores don't improve for 20 rounds\n",
      "[100]\tfit's logloss: 0.00191083\tval's logloss: 0.00358371\n",
      "[200]\tfit's logloss: 0.000825181\tval's logloss: 0.00286873\n",
      "[300]\tfit's logloss: 0.000403679\tval's logloss: 0.00262094\n",
      "Early stopping, best iteration is:\n",
      "[355]\tfit's logloss: 0.000282887\tval's logloss: 0.00257033\n",
      "\n",
      "Test's ROC AUC: 0.97721\n",
      "Test's logloss: 0.00233\n"
     ]
    }
   ],
   "source": [
    "import lightgbm\n",
    "import numpy as np\n",
    "from scipy import special\n",
    "\n",
    "def logloss_init_score(y):\n",
    "    p = y.mean()\n",
    "    p = np.clip(p, 1e-15, 1 - 1e-15)\n",
    "    log_odds = np.log(p / (1 - p))\n",
    "    return log_odds\n",
    "\n",
    "def logloss_objective(preds, train_data):\n",
    "    y = train_data.get_label()\n",
    "    p = special.expit(preds)\n",
    "    grad = p - y\n",
    "    hess = p * (1 - p)\n",
    "    return grad, hess\n",
    "\n",
    "def logloss_metric(preds, train_data):\n",
    "    y = train_data.get_label()\n",
    "    p = special.expit(preds)\n",
    "    is_higher_better = False\n",
    "    return 'logloss', metrics.log_loss(y, p), is_higher_better\n",
    "\n",
    "fit = lightgbm.Dataset(\n",
    "    X_fit, y_fit,\n",
    "    init_score=np.full_like(y_fit, logloss_init_score(y_fit), dtype=float)\n",
    ")\n",
    "\n",
    "val = lightgbm.Dataset(\n",
    "    X_val, y_val,\n",
    "    init_score=np.full_like(y_val, logloss_init_score(y_fit), dtype=float),\n",
    "    reference=fit\n",
    ")\n",
    "\n",
    "model = lightgbm.train(\n",
    "    params={'learning_rate': 0.01},\n",
    "    train_set=fit,\n",
    "    num_boost_round=10000,\n",
    "    valid_sets=(fit, val),\n",
    "    valid_names=('fit', 'val'),\n",
    "    early_stopping_rounds=20,\n",
    "    verbose_eval=100,\n",
    "    fobj=logloss_objective,\n",
    "    feval=logloss_metric\n",
    ")\n",
    "\n",
    "y_pred = special.expit(logloss_init_score(y_fit) + model.predict(X_test))\n",
    "\n",
    "print()\n",
    "print(f\"Test's ROC AUC: {metrics.roc_auc_score(y_test, y_pred):.5f}\")\n",
    "print(f\"Test's logloss: {metrics.log_loss(y_test, y_pred):.5f}\")\n"
   ]
  },
  {
   "cell_type": "code",
   "execution_count": 7,
   "metadata": {},
   "outputs": [
    {
     "data": {
      "text/plain": [
       "array([0. , 0.1, 0.2, 0.3, 0.4, 0.5, 0.6, 0.7, 0.8, 0.9, 1. ])"
      ]
     },
     "execution_count": 7,
     "metadata": {},
     "output_type": "execute_result"
    }
   ],
   "source": [
    "p = np.array([0, .1, .2, .3, .4, .5, .6, .7, .8, .9, 1])\n",
    "p"
   ]
  },
  {
   "cell_type": "code",
   "execution_count": 8,
   "metadata": {},
   "outputs": [
    {
     "data": {
      "text/plain": [
       "array([3.        , 3.34836952, 3.73719282, 4.17116751, 4.65553672,\n",
       "       5.19615242, 5.79954613, 6.47300784, 7.22467406, 8.06362614,\n",
       "       9.        ])"
      ]
     },
     "execution_count": 8,
     "metadata": {},
     "output_type": "execute_result"
    }
   ],
   "source": [
    "3 ** (1 + p)"
   ]
  },
  {
   "cell_type": "code",
   "execution_count": 11,
   "metadata": {},
   "outputs": [
    {
     "data": {
      "text/plain": [
       "array([1.        , 1.        , 1.00000004, 1.00000155, 1.0000186 ,\n",
       "       1.0001201 , 1.00052603, 1.00176972, 1.00492263, 1.01186757,\n",
       "       1.02560086])"
      ]
     },
     "execution_count": 11,
     "metadata": {},
     "output_type": "execute_result"
    }
   ],
   "source": []
  },
  {
   "cell_type": "code",
   "execution_count": 12,
   "metadata": {},
   "outputs": [
    {
     "data": {
      "text/plain": [
       "array([ 0.,  1.,  2.,  3.,  4.,  5.,  6.,  7.,  8.,  9., 10.])"
      ]
     },
     "execution_count": 12,
     "metadata": {},
     "output_type": "execute_result"
    }
   ],
   "source": [
    "10 * p"
   ]
  },
  {
   "cell_type": "code",
   "execution_count": null,
   "metadata": {},
   "outputs": [],
   "source": []
  }
 ],
 "metadata": {
  "kernelspec": {
   "display_name": "Python 3",
   "language": "python",
   "name": "python3"
  },
  "language_info": {
   "codemirror_mode": {
    "name": "ipython",
    "version": 3
   },
   "file_extension": ".py",
   "mimetype": "text/x-python",
   "name": "python",
   "nbconvert_exporter": "python",
   "pygments_lexer": "ipython3",
   "version": "3.7.4"
  }
 },
 "nbformat": 4,
 "nbformat_minor": 4
}

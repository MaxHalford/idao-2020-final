{
 "cells": [
  {
   "cell_type": "markdown",
   "metadata": {},
   "source": [
    "# Solution"
   ]
  },
  {
   "cell_type": "markdown",
   "metadata": {},
   "source": [
    "## Data loading"
   ]
  },
  {
   "cell_type": "code",
   "execution_count": 6,
   "metadata": {},
   "outputs": [
    {
     "data": {
      "text/html": [
       "<div>\n",
       "<style scoped>\n",
       "    .dataframe tbody tr th:only-of-type {\n",
       "        vertical-align: middle;\n",
       "    }\n",
       "\n",
       "    .dataframe tbody tr th {\n",
       "        vertical-align: top;\n",
       "    }\n",
       "\n",
       "    .dataframe thead th {\n",
       "        text-align: right;\n",
       "    }\n",
       "</style>\n",
       "<table border=\"1\" class=\"dataframe\">\n",
       "  <thead>\n",
       "    <tr style=\"text-align: right;\">\n",
       "      <th></th>\n",
       "      <th>target</th>\n",
       "      <th>delivery_type</th>\n",
       "      <th>addr_region_reg</th>\n",
       "      <th>addr_region_fact</th>\n",
       "      <th>channel_name</th>\n",
       "      <th>channel_name_2</th>\n",
       "      <th>channel_name_modified_2018</th>\n",
       "      <th>sas_limit_after_003_amt</th>\n",
       "      <th>sas_limit_last_amt</th>\n",
       "      <th>clnt_education_name</th>\n",
       "      <th>clnt_marital_status_name</th>\n",
       "      <th>clnt_employment_type_name</th>\n",
       "      <th>clnt_speciality_sphere_name</th>\n",
       "      <th>clnt_sex_name</th>\n",
       "      <th>prt_name</th>\n",
       "      <th>feature_0</th>\n",
       "    </tr>\n",
       "    <tr>\n",
       "      <th>card_id</th>\n",
       "      <th></th>\n",
       "      <th></th>\n",
       "      <th></th>\n",
       "      <th></th>\n",
       "      <th></th>\n",
       "      <th></th>\n",
       "      <th></th>\n",
       "      <th></th>\n",
       "      <th></th>\n",
       "      <th></th>\n",
       "      <th></th>\n",
       "      <th></th>\n",
       "      <th></th>\n",
       "      <th></th>\n",
       "      <th></th>\n",
       "      <th></th>\n",
       "    </tr>\n",
       "  </thead>\n",
       "  <tbody>\n",
       "    <tr>\n",
       "      <th>cid_10620</th>\n",
       "      <td>1</td>\n",
       "      <td>cat_1</td>\n",
       "      <td>107</td>\n",
       "      <td>107</td>\n",
       "      <td>cat_0</td>\n",
       "      <td>cat_3</td>\n",
       "      <td>cat_0</td>\n",
       "      <td>1</td>\n",
       "      <td>1</td>\n",
       "      <td>cat_1</td>\n",
       "      <td>cat_4</td>\n",
       "      <td>cat_0</td>\n",
       "      <td>cat_0</td>\n",
       "      <td>cat_0</td>\n",
       "      <td>cat_9</td>\n",
       "      <td>cat_7</td>\n",
       "    </tr>\n",
       "    <tr>\n",
       "      <th>cid_105724</th>\n",
       "      <td>0</td>\n",
       "      <td>cat_1</td>\n",
       "      <td>9</td>\n",
       "      <td>9</td>\n",
       "      <td>cat_2</td>\n",
       "      <td>cat_5</td>\n",
       "      <td>cat_2</td>\n",
       "      <td>3</td>\n",
       "      <td>3</td>\n",
       "      <td>cat_1</td>\n",
       "      <td>cat_2</td>\n",
       "      <td>cat_3</td>\n",
       "      <td>cat_26</td>\n",
       "      <td>cat_1</td>\n",
       "      <td>cat_8</td>\n",
       "      <td>cat_9</td>\n",
       "    </tr>\n",
       "    <tr>\n",
       "      <th>cid_101410</th>\n",
       "      <td>1</td>\n",
       "      <td>cat_1</td>\n",
       "      <td>109</td>\n",
       "      <td>109</td>\n",
       "      <td>cat_0</td>\n",
       "      <td>cat_3</td>\n",
       "      <td>cat_0</td>\n",
       "      <td>1</td>\n",
       "      <td>1</td>\n",
       "      <td>cat_1</td>\n",
       "      <td>cat_2</td>\n",
       "      <td>cat_3</td>\n",
       "      <td>cat_15</td>\n",
       "      <td>cat_0</td>\n",
       "      <td>cat_9</td>\n",
       "      <td>cat_10</td>\n",
       "    </tr>\n",
       "    <tr>\n",
       "      <th>cid_38961</th>\n",
       "      <td>0</td>\n",
       "      <td>cat_1</td>\n",
       "      <td>66</td>\n",
       "      <td>66</td>\n",
       "      <td>cat_0</td>\n",
       "      <td>cat_3</td>\n",
       "      <td>cat_0</td>\n",
       "      <td>3</td>\n",
       "      <td>3</td>\n",
       "      <td>cat_1</td>\n",
       "      <td>cat_2</td>\n",
       "      <td>cat_3</td>\n",
       "      <td>cat_14</td>\n",
       "      <td>cat_0</td>\n",
       "      <td>cat_9</td>\n",
       "      <td>cat_7</td>\n",
       "    </tr>\n",
       "    <tr>\n",
       "      <th>cid_57462</th>\n",
       "      <td>0</td>\n",
       "      <td>cat_1</td>\n",
       "      <td>16</td>\n",
       "      <td>16</td>\n",
       "      <td>cat_0</td>\n",
       "      <td>cat_3</td>\n",
       "      <td>cat_0</td>\n",
       "      <td>0</td>\n",
       "      <td>0</td>\n",
       "      <td>cat_4</td>\n",
       "      <td>cat_2</td>\n",
       "      <td>cat_3</td>\n",
       "      <td>cat_24</td>\n",
       "      <td>cat_0</td>\n",
       "      <td>cat_9</td>\n",
       "      <td>cat_13</td>\n",
       "    </tr>\n",
       "  </tbody>\n",
       "</table>\n",
       "</div>"
      ],
      "text/plain": [
       "            target delivery_type addr_region_reg addr_region_fact  \\\n",
       "card_id                                                             \n",
       "cid_10620        1         cat_1             107              107   \n",
       "cid_105724       0         cat_1               9                9   \n",
       "cid_101410       1         cat_1             109              109   \n",
       "cid_38961        0         cat_1              66               66   \n",
       "cid_57462        0         cat_1              16               16   \n",
       "\n",
       "           channel_name channel_name_2 channel_name_modified_2018  \\\n",
       "card_id                                                             \n",
       "cid_10620         cat_0          cat_3                      cat_0   \n",
       "cid_105724        cat_2          cat_5                      cat_2   \n",
       "cid_101410        cat_0          cat_3                      cat_0   \n",
       "cid_38961         cat_0          cat_3                      cat_0   \n",
       "cid_57462         cat_0          cat_3                      cat_0   \n",
       "\n",
       "            sas_limit_after_003_amt  sas_limit_last_amt clnt_education_name  \\\n",
       "card_id                                                                       \n",
       "cid_10620                         1                   1               cat_1   \n",
       "cid_105724                        3                   3               cat_1   \n",
       "cid_101410                        1                   1               cat_1   \n",
       "cid_38961                         3                   3               cat_1   \n",
       "cid_57462                         0                   0               cat_4   \n",
       "\n",
       "           clnt_marital_status_name clnt_employment_type_name  \\\n",
       "card_id                                                         \n",
       "cid_10620                     cat_4                     cat_0   \n",
       "cid_105724                    cat_2                     cat_3   \n",
       "cid_101410                    cat_2                     cat_3   \n",
       "cid_38961                     cat_2                     cat_3   \n",
       "cid_57462                     cat_2                     cat_3   \n",
       "\n",
       "           clnt_speciality_sphere_name clnt_sex_name prt_name feature_0  \n",
       "card_id                                                                  \n",
       "cid_10620                        cat_0         cat_0    cat_9     cat_7  \n",
       "cid_105724                      cat_26         cat_1    cat_8     cat_9  \n",
       "cid_101410                      cat_15         cat_0    cat_9    cat_10  \n",
       "cid_38961                       cat_14         cat_0    cat_9     cat_7  \n",
       "cid_57462                       cat_24         cat_0    cat_9    cat_13  "
      ]
     },
     "execution_count": 6,
     "metadata": {},
     "output_type": "execute_result"
    }
   ],
   "source": [
    "import pandas as pd\n",
    "\n",
    "pd.options.display.max_columns = 100\n",
    "\n",
    "dtypes = {\n",
    "    'delivery_type': 'category',\n",
    "    'addr_region_reg': 'category',\n",
    "    'addr_region_fact': 'category',\n",
    "    'channel_name': 'category',\n",
    "    'channel_name_2': 'category',\n",
    "    'sas_limit_after_003_amt': 'uint8',\n",
    "    'sas_limit_last_amt': 'uint8',\n",
    "    \n",
    "    'channel_name_modified_2018': 'category',\n",
    "    'clnt_education_name': 'category',\n",
    "    'clnt_marital_status_name': 'category',\n",
    "    'clnt_employment_type_name': 'category',\n",
    "    'clnt_speciality_sphere_name': 'category',\n",
    "    'clnt_sex_name': 'category',\n",
    "    'prt_name': 'category',\n",
    "    'feature_0': 'category',\n",
    "    \n",
    "    #'inquiry_recent_period': 'uint',\n",
    "    #'prt_name': 'category',\n",
    "    #'inquiry_1_week': 'uint',\n",
    "}\n",
    "cols_to_use = list(dtypes.keys()) + ['card_id', 'target']\n",
    "\n",
    "train = pd.read_csv('data/train.csv', index_col='card_id', dtype=dtypes, usecols=cols_to_use)\n",
    "train.head()"
   ]
  },
  {
   "cell_type": "markdown",
   "metadata": {},
   "source": [
    "## Feature extraction"
   ]
  },
  {
   "cell_type": "markdown",
   "metadata": {},
   "source": [
    "## Learning"
   ]
  },
  {
   "cell_type": "code",
   "execution_count": 7,
   "metadata": {},
   "outputs": [],
   "source": [
    "X = train.copy()\n",
    "y = X.pop('target')"
   ]
  },
  {
   "cell_type": "code",
   "execution_count": 8,
   "metadata": {},
   "outputs": [],
   "source": [
    "from sklearn import model_selection\n",
    "\n",
    "X_fit, X_val, y_fit, y_val = model_selection.train_test_split(\n",
    "    X, y,\n",
    "    random_state=42\n",
    ")"
   ]
  },
  {
   "cell_type": "code",
   "execution_count": 9,
   "metadata": {},
   "outputs": [
    {
     "name": "stdout",
     "output_type": "stream",
     "text": [
      "Training until validation scores don't improve for 20 rounds\n",
      "[100]\tfit's auc: 0.7065\tval's auc: 0.690153\n",
      "[200]\tfit's auc: 0.71469\tval's auc: 0.694616\n",
      "[300]\tfit's auc: 0.721188\tval's auc: 0.696373\n",
      "[400]\tfit's auc: 0.726616\tval's auc: 0.69717\n",
      "[500]\tfit's auc: 0.731218\tval's auc: 0.697435\n",
      "Early stopping, best iteration is:\n",
      "[572]\tfit's auc: 0.734173\tval's auc: 0.697591\n"
     ]
    }
   ],
   "source": [
    "import lightgbm as lgb\n",
    "\n",
    "fit = lgb.Dataset(X_fit, y_fit)\n",
    "val = lgb.Dataset(X_val, y_val, reference=fit)\n",
    "\n",
    "model = lgb.train(\n",
    "    params={\n",
    "        'learning_rate': .01,\n",
    "        'objective': 'binary',\n",
    "        'metric': 'auc',\n",
    "        'boost_from_average': True,\n",
    "        'min_data_in_leaf': 20,\n",
    "        'max_bin': 255,\n",
    "        'num_leaves': 31,\n",
    "        'min_data_per_group': 100,\n",
    "        'cat_smooth': 10,\n",
    "        'seed': 42\n",
    "    },\n",
    "    train_set=fit,\n",
    "    num_boost_round=10_000,\n",
    "    valid_sets=[fit, val],\n",
    "    valid_names=['fit', 'val'],\n",
    "    early_stopping_rounds=20,\n",
    "    verbose_eval=100\n",
    ")"
   ]
  },
  {
   "cell_type": "code",
   "execution_count": 10,
   "metadata": {},
   "outputs": [
    {
     "data": {
      "text/plain": [
       "0.538140046285833"
      ]
     },
     "execution_count": 10,
     "metadata": {},
     "output_type": "execute_result"
    }
   ],
   "source": [
    "import numpy as np\n",
    "from sklearn import metrics\n",
    "\n",
    "y_pred = model.predict(X_val)\n",
    "\n",
    "def roc_auc_score_at_K(predicted_proba, target, rate=0.1):  \n",
    "    order = np.argsort(-predicted_proba) \n",
    "    top_k = int(rate * len(predicted_proba)) \n",
    "    return metrics.roc_auc_score(target[order][:top_k], predicted_proba[order][:top_k]) \n",
    "\n",
    "val_score = roc_auc_score_at_K(y_pred, y_val)\n",
    "val_score"
   ]
  },
  {
   "cell_type": "code",
   "execution_count": 13,
   "metadata": {},
   "outputs": [
    {
     "name": "stdout",
     "output_type": "stream",
     "text": [
      "channel_name_modified_2018     137112\n",
      "addr_region_fact               112116\n",
      "prt_name                       101772\n",
      "addr_region_reg                 65244\n",
      "clnt_speciality_sphere_name     49993\n",
      "channel_name_2                  47283\n",
      "sas_limit_last_amt              25207\n",
      "delivery_type                   13477\n",
      "sas_limit_after_003_amt         11492\n",
      "channel_name                     9589\n",
      "feature_0                        7273\n",
      "clnt_education_name              6259\n",
      "clnt_marital_status_name         2979\n",
      "clnt_sex_name                    1578\n",
      "clnt_employment_type_name          16\n",
      "dtype: int64\n"
     ]
    }
   ],
   "source": [
    "importances = model.feature_importance(importance_type='gain').astype(int)\n",
    "print(pd.Series(importances, index=X_fit.columns).sort_values(ascending=False))"
   ]
  },
  {
   "cell_type": "code",
   "execution_count": 14,
   "metadata": {},
   "outputs": [
    {
     "data": {
      "text/plain": [
       "<lightgbm.basic.Booster at 0x7f98a21e0710>"
      ]
     },
     "execution_count": 14,
     "metadata": {},
     "output_type": "execute_result"
    }
   ],
   "source": [
    "#model.save_model(f'models/model_{val_score:.4f}.lgb')\n",
    "model.save_model(f'track_2/model.lgb')"
   ]
  },
  {
   "cell_type": "code",
   "execution_count": null,
   "metadata": {},
   "outputs": [],
   "source": []
  }
 ],
 "metadata": {
  "kernelspec": {
   "display_name": "Python 3",
   "language": "python",
   "name": "python3"
  },
  "language_info": {
   "codemirror_mode": {
    "name": "ipython",
    "version": 3
   },
   "file_extension": ".py",
   "mimetype": "text/x-python",
   "name": "python",
   "nbconvert_exporter": "python",
   "pygments_lexer": "ipython3",
   "version": "3.7.4"
  }
 },
 "nbformat": 4,
 "nbformat_minor": 4
}

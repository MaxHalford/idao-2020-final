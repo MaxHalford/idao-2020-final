{
 "cells": [
  {
   "cell_type": "markdown",
   "metadata": {},
   "source": [
    "# Solution"
   ]
  },
  {
   "cell_type": "markdown",
   "metadata": {},
   "source": [
    "## Data loading"
   ]
  },
  {
   "cell_type": "markdown",
   "metadata": {},
   "source": [
    "## Feature extraction"
   ]
  },
  {
   "cell_type": "markdown",
   "metadata": {},
   "source": [
    "## Learning"
   ]
  },
  {
   "cell_type": "code",
   "execution_count": null,
   "metadata": {},
   "outputs": [],
   "source": [
    "X_fit, X_val, y_fit, y_val = model_selection.train_test_split(\n",
    "    features, targets,\n",
    "    random_state=42\n",
    ")"
   ]
  },
  {
   "cell_type": "code",
   "execution_count": null,
   "metadata": {},
   "outputs": [],
   "source": [
    "fit = lgb.Dataset(X_fit, y_fit)\n",
    "val = lgb.Dataset(X_val, y_val, reference=fit)\n",
    "\n",
    "model = lgb.train(\n",
    "    params={\n",
    "        'learning_rate': 0.1,\n",
    "        'objective': 'binary',\n",
    "        'metric': 'auc',\n",
    "        'boost_from_average': True,\n",
    "        'min_data_in_leaf': 20,\n",
    "        'max_bin': 255,\n",
    "        'num_leaves': 31,\n",
    "        'min_data_per_group': 100,\n",
    "        'cat_smooth': 10,\n",
    "        'seed': 42\n",
    "    },\n",
    "    train_set=fit,\n",
    "    num_boost_round=10_000,\n",
    "    valid_sets=(fit, val),\n",
    "    valid_names=('fit', 'val'),\n",
    "    early_stopping_rounds=20,\n",
    "    verbose_eval=100\n",
    ")"
   ]
  },
  {
   "cell_type": "code",
   "execution_count": null,
   "metadata": {},
   "outputs": [],
   "source": [
    "importances = model.feature_importance(importance_type='gain').astype(int)\n",
    "print(pd.Series(importances, index=X_fit.columns).sort_values(ascending=False))"
   ]
  },
  {
   "cell_type": "code",
   "execution_count": null,
   "metadata": {},
   "outputs": [],
   "source": [
    "val_score = metrics.roc_auc_score(y_val, model.predict(X_val))\n",
    "model.save_model(f'models/model_{val_score:.4f}.lgb')"
   ]
  }
 ],
 "metadata": {
  "kernelspec": {
   "display_name": "Python 3",
   "language": "python",
   "name": "python3"
  },
  "language_info": {
   "codemirror_mode": {
    "name": "ipython",
    "version": 3
   },
   "file_extension": ".py",
   "mimetype": "text/x-python",
   "name": "python",
   "nbconvert_exporter": "python",
   "pygments_lexer": "ipython3",
   "version": "3.8.3"
  }
 },
 "nbformat": 4,
 "nbformat_minor": 4
}
